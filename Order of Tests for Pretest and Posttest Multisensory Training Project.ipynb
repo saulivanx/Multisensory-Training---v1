{
 "cells": [
  {
   "cell_type": "code",
   "execution_count": 37,
   "metadata": {
    "scrolled": true
   },
   "outputs": [
    {
     "name": "stdout",
     "output_type": "stream",
     "text": [
      "This is the order of the tasks for : Saul Quintero ['reading', 'speech', 'digitspan', 'sifi', 'mcgurk']\n"
     ]
    }
   ],
   "source": [
    "#For the RA: Execute this code to figure out the order of the tests at the beginning of the session. \n",
    "\n",
    "#This creates a list of the possible tasks. The word list task file 1 will always be fun first and word list task file 2\n",
    "#will always be run last. Please refer to the experimental protocol for more detail.\n",
    "\n",
    "import random as ran\n",
    "import smtplib\n",
    "\n",
    "current_participant = \"Saul Quintero\" #<- Type in the name of the current participant in between the quotation marks\n",
    "\n",
    "#Ignore everything below this line!\n",
    "email_subject_line = \"Multisensory Training Project Order\"+str(current_participant)\n",
    "\n",
    "sifi = \"sifi\"\n",
    "mcgurk = \"mcgurk\"\n",
    "speech = \"speech\"\n",
    "digitspan = \"digitspan\"\n",
    "reading = \"reading\"\n",
    "\n",
    "order_of_tasks = [sifi, mcgurk, reading, speech, digitspan]\n",
    "\n",
    "ran.shuffle(order_of_tasks)\n",
    "\n",
    "current_participant_order = \"This is the order of the tasks for \" +str(current_participant)+ \": Word List Pt 1 ,\"+ str(order_of_tasks) + \", Word List Part 2\"\n",
    "current_participant_order_email = (\"This is a message relating to the multisensory training project. This is the order of the tasks for \" +str(current_participant)+ \" \"+ str(order_of_tasks))\n",
    "\n",
    "from email.mime.text import MIMEText\n",
    "\n",
    "fromx = 'multisensorytrainingproject@gmail.com'\n",
    "to  = 'multisensorytrainingproject@gmail.com'\n",
    "msg = MIMEText(str(current_participant_order_email))\n",
    "msg['Subject'] = str(email_subject_line)\n",
    "msg['From'] = fromx\n",
    "msg['To'] = to\n",
    "\n",
    "server = smtplib.SMTP('smtp.gmail.com:587')\n",
    "server.starttls()\n",
    "server.ehlo()\n",
    "server.login('multisensorytrainingproject@gmail.com', 'shams10101')\n",
    "server.sendmail(fromx, to, msg.as_string())\n",
    "server.quit()\n",
    "\n",
    "#Below you should see the order of the tasks in the square brackets as an example. \n",
    "#Because we need to know the order of the tasks for the post-test, this code also\n",
    "#automatically sends an email to Saul with the details.\n",
    "\n",
    "print(current_participant_order)"
   ]
  },
  {
   "cell_type": "code",
   "execution_count": null,
   "metadata": {},
   "outputs": [],
   "source": []
  }
 ],
 "metadata": {
  "kernelspec": {
   "display_name": "Python 3",
   "language": "python",
   "name": "python3"
  },
  "language_info": {
   "codemirror_mode": {
    "name": "ipython",
    "version": 3
   },
   "file_extension": ".py",
   "mimetype": "text/x-python",
   "name": "python",
   "nbconvert_exporter": "python",
   "pygments_lexer": "ipython3",
   "version": "3.8.5"
  }
 },
 "nbformat": 4,
 "nbformat_minor": 4
}
