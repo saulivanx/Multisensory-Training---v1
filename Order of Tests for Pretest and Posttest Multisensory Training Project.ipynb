{
 "cells": [
  {
   "cell_type": "code",
   "execution_count": 10,
   "metadata": {},
   "outputs": [
    {
     "name": "stdout",
     "output_type": "stream",
     "text": [
      "This is the order of the tasks for the current participant ['digitspan', 'reading', 'sifi', 'mcgurk', 'speech']\n"
     ]
    }
   ],
   "source": [
    "#For the RA: Execute this code to figure out the order of the tests at the beginning of the session. \n",
    "\n",
    "#This creates a list of the possible tasks. The word list task file 1 will always be fun first and word list task file 2\n",
    "#will always be run last. Please refer to the experimental protocol for more detail.\n",
    "\n",
    "import random as ran\n",
    "\n",
    "sifi = \"sifi\"\n",
    "mcgurk = \"mcgurk\"\n",
    "speech = \"speech\"\n",
    "digitspan = \"digitspan\"\n",
    "reading = \"reading\"\n",
    "\n",
    "order_of_tasks = [sifi, mcgurk, reading, speech, digitspan]\n",
    "\n",
    "ran.shuffle(order_of_tasks)\n",
    "\n",
    "print(\"This is the order of the tasks for the current participant \"+ str(order_of_tasks))\n",
    "\n",
    "#Below you should see the order of the tasks in the square brackets. \n",
    "#***PLEASE Remember to write down the order of the tasks for this participant!!! The order of the pre-test should be identical\n",
    "#to the order of the post-test so this is very important***\n"
   ]
  },
  {
   "cell_type": "code",
   "execution_count": null,
   "metadata": {},
   "outputs": [],
   "source": []
  }
 ],
 "metadata": {
  "kernelspec": {
   "display_name": "Python 3",
   "language": "python",
   "name": "python3"
  },
  "language_info": {
   "codemirror_mode": {
    "name": "ipython",
    "version": 3
   },
   "file_extension": ".py",
   "mimetype": "text/x-python",
   "name": "python",
   "nbconvert_exporter": "python",
   "pygments_lexer": "ipython3",
   "version": "3.8.5"
  }
 },
 "nbformat": 4,
 "nbformat_minor": 4
}
